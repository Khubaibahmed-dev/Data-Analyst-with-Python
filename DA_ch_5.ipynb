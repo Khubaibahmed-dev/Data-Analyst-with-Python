{
  "nbformat": 4,
  "nbformat_minor": 0,
  "metadata": {
    "colab": {
      "name": "DA-ch-5.ipynb",
      "provenance": []
    },
    "kernelspec": {
      "name": "python3",
      "display_name": "Python 3"
    }
  },
  "cells": [
    {
      "cell_type": "code",
      "metadata": {
        "id": "4IrlgcY1OzSo"
      },
      "source": [
        "Chapter 5\n",
        "topic 5.1\n",
        "You'll convert data types, apply range constraints to remove future data points,\n",
        " and remove duplicated data points to avoid double-counting."
      ],
      "execution_count": null,
      "outputs": []
    },
    {
      "cell_type": "code",
      "metadata": {
        "id": "bKAdF3dUuuRY"
      },
      "source": [
        "website and log server, ML and statistical analysis, memory limited in excel etc"
      ],
      "execution_count": null,
      "outputs": []
    },
    {
      "cell_type": "code",
      "metadata": {
        "colab": {
          "base_uri": "https://localhost:8080/"
        },
        "id": "reg2nQ62GXkk",
        "outputId": "b8d45b77-288e-4fa8-da04-0fe48a56cd2c"
      },
      "source": [
        "#from google.colab import drive\n",
        "#drive.mount('/content/gdrive/')"
      ],
      "execution_count": null,
      "outputs": [
        {
          "output_type": "stream",
          "text": [
            "Mounted at /content/gdrive/\n"
          ],
          "name": "stdout"
        }
      ]
    },
    {
      "cell_type": "code",
      "metadata": {
        "colab": {
          "base_uri": "https://localhost:8080/"
        },
        "id": "2uRs15OnO7Gr",
        "outputId": "63630742-eb6c-43c0-c519-8991ea99e0de"
      },
      "source": [
        "import pandas as pd\n",
        "import matplotlib.pyplot as plt\n",
        "import numpy as np\n",
        "\n",
        "ride_sharing = pd.read_csv('ride_sharing_new.csv')\n",
        "# Print the information of ride_sharing\n",
        "print(ride_sharing.info())\n",
        "\n",
        "# Print summary statistics of user_type column\n",
        "print(ride_sharing['user_type'].describe())"
      ],
      "execution_count": null,
      "outputs": [
        {
          "output_type": "stream",
          "text": [
            "<class 'pandas.core.frame.DataFrame'>\n",
            "RangeIndex: 25760 entries, 0 to 25759\n",
            "Data columns (total 10 columns):\n",
            " #   Column           Non-Null Count  Dtype \n",
            "---  ------           --------------  ----- \n",
            " 0   Unnamed: 0       25760 non-null  int64 \n",
            " 1   duration         25760 non-null  object\n",
            " 2   station_A_id     25760 non-null  int64 \n",
            " 3   station_A_name   25760 non-null  object\n",
            " 4   station_B_id     25760 non-null  int64 \n",
            " 5   station_B_name   25760 non-null  object\n",
            " 6   bike_id          25760 non-null  int64 \n",
            " 7   user_type        25760 non-null  int64 \n",
            " 8   user_birth_year  25760 non-null  int64 \n",
            " 9   user_gender      25760 non-null  object\n",
            "dtypes: int64(6), object(4)\n",
            "memory usage: 2.0+ MB\n",
            "None\n",
            "count    25760.000000\n",
            "mean         2.008385\n",
            "std          0.704541\n",
            "min          1.000000\n",
            "25%          2.000000\n",
            "50%          2.000000\n",
            "75%          3.000000\n",
            "max          3.000000\n",
            "Name: user_type, dtype: float64\n"
          ],
          "name": "stdout"
        }
      ]
    },
    {
      "cell_type": "code",
      "metadata": {
        "colab": {
          "base_uri": "https://localhost:8080/"
        },
        "id": "lFI6OqlpBwC3",
        "outputId": "27220a3c-6ae2-4f9d-8b58-0fbbefd8148b"
      },
      "source": [
        "print(ride_sharing)"
      ],
      "execution_count": null,
      "outputs": [
        {
          "output_type": "stream",
          "text": [
            "       Unnamed: 0    duration  ...  duration_trim duration_time\n",
            "0               0  12 minutes  ...            12             12\n",
            "1               1  24 minutes  ...            24             24\n",
            "2               2   8 minutes  ...             8              8\n",
            "3               3   4 minutes  ...             4              4\n",
            "4               4  11 minutes  ...            11             11\n",
            "...           ...         ...  ...            ...           ...\n",
            "25755       25755  11 minutes  ...            11             11\n",
            "25756       25756  10 minutes  ...            10             10\n",
            "25757       25757  14 minutes  ...            14             14\n",
            "25758       25758  14 minutes  ...            14             14\n",
            "25759       25759  29 minutes  ...            29             29\n",
            "\n",
            "[25760 rows x 12 columns]\n"
          ],
          "name": "stdout"
        }
      ]
    },
    {
      "cell_type": "code",
      "metadata": {
        "colab": {
          "base_uri": "https://localhost:8080/"
        },
        "id": "fyCxuvgIWnnO",
        "outputId": "4a33f355-b0c9-47d8-a6f2-1f8d1b430f4d"
      },
      "source": [
        "# Strip duration of minutes\n",
        "ride_sharing['duration_trim'] = ride_sharing['duration'].str.strip('minutes')\n",
        "\n",
        "# Convert duration to integer\n",
        "ride_sharing['duration_time'] = ride_sharing['duration_trim'].astype('int')\n",
        "\n",
        "# Write an assert statement making sure of conversion\n",
        "assert ride_sharing['duration_time'].dtype == 'int'\n",
        "\n",
        "# Print formed columns and calculate average ride duration \n",
        "print(ride_sharing[['duration','duration_trim','duration_time']])\n",
        "print(ride_sharing.duration_time.mean())"
      ],
      "execution_count": null,
      "outputs": [
        {
          "output_type": "stream",
          "text": [
            "         duration duration_trim  duration_time\n",
            "0      12 minutes           12              12\n",
            "1      24 minutes           24              24\n",
            "2       8 minutes            8               8\n",
            "3       4 minutes            4               4\n",
            "4      11 minutes           11              11\n",
            "...           ...           ...            ...\n",
            "25755  11 minutes           11              11\n",
            "25756  10 minutes           10              10\n",
            "25757  14 minutes           14              14\n",
            "25758  14 minutes           14              14\n",
            "25759  29 minutes           29              29\n",
            "\n",
            "[25760 rows x 3 columns]\n",
            "11.389052795031056\n"
          ],
          "name": "stdout"
        }
      ]
    },
    {
      "cell_type": "code",
      "metadata": {
        "id": "r-vZ1JoGAq-W"
      },
      "source": [
        "2020-11-23"
      ],
      "execution_count": null,
      "outputs": []
    },
    {
      "cell_type": "code",
      "metadata": {
        "colab": {
          "base_uri": "https://localhost:8080/"
        },
        "id": "_1uTUpkFcRiO",
        "outputId": "d5bc2f6c-f73b-40cd-f9d6-0b23e4dda6a1"
      },
      "source": [
        "ride_sharing.user_type"
      ],
      "execution_count": null,
      "outputs": [
        {
          "output_type": "execute_result",
          "data": {
            "text/plain": [
              "0        2\n",
              "1        2\n",
              "2        3\n",
              "3        1\n",
              "4        2\n",
              "        ..\n",
              "25755    1\n",
              "25756    2\n",
              "25757    2\n",
              "25758    2\n",
              "25759    3\n",
              "Name: user_type, Length: 25760, dtype: category\n",
              "Categories (3, int64): [1, 2, 3]"
            ]
          },
          "metadata": {
            "tags": []
          },
          "execution_count": 15
        }
      ]
    },
    {
      "cell_type": "code",
      "metadata": {
        "colab": {
          "base_uri": "https://localhost:8080/"
        },
        "id": "b2cFgwlkoLIj",
        "outputId": "b4ae6996-8a5c-467f-b63f-ca7f70ace597"
      },
      "source": [
        "ride_sharing.info()"
      ],
      "execution_count": null,
      "outputs": [
        {
          "output_type": "stream",
          "text": [
            "<class 'pandas.core.frame.DataFrame'>\n",
            "RangeIndex: 25760 entries, 0 to 25759\n",
            "Data columns (total 10 columns):\n",
            " #   Column           Non-Null Count  Dtype \n",
            "---  ------           --------------  ----- \n",
            " 0   Unnamed: 0       25760 non-null  int64 \n",
            " 1   duration         25760 non-null  object\n",
            " 2   station_A_id     25760 non-null  int64 \n",
            " 3   station_A_name   25760 non-null  object\n",
            " 4   station_B_id     25760 non-null  int64 \n",
            " 5   station_B_name   25760 non-null  object\n",
            " 6   bike_id          25760 non-null  int64 \n",
            " 7   user_type        25760 non-null  int64 \n",
            " 8   user_birth_year  25760 non-null  int64 \n",
            " 9   user_gender      25760 non-null  object\n",
            "dtypes: int64(6), object(4)\n",
            "memory usage: 2.0+ MB\n"
          ],
          "name": "stdout"
        }
      ]
    },
    {
      "cell_type": "code",
      "metadata": {
        "colab": {
          "base_uri": "https://localhost:8080/",
          "height": 294
        },
        "id": "LsS9eqqroOPs",
        "outputId": "15b6cfc5-e9e1-4dab-d8dc-3371699723ef"
      },
      "source": [
        "ride_sharing.describe()"
      ],
      "execution_count": null,
      "outputs": [
        {
          "output_type": "execute_result",
          "data": {
            "text/html": [
              "<div>\n",
              "<style scoped>\n",
              "    .dataframe tbody tr th:only-of-type {\n",
              "        vertical-align: middle;\n",
              "    }\n",
              "\n",
              "    .dataframe tbody tr th {\n",
              "        vertical-align: top;\n",
              "    }\n",
              "\n",
              "    .dataframe thead th {\n",
              "        text-align: right;\n",
              "    }\n",
              "</style>\n",
              "<table border=\"1\" class=\"dataframe\">\n",
              "  <thead>\n",
              "    <tr style=\"text-align: right;\">\n",
              "      <th></th>\n",
              "      <th>Unnamed: 0</th>\n",
              "      <th>station_A_id</th>\n",
              "      <th>station_B_id</th>\n",
              "      <th>bike_id</th>\n",
              "      <th>user_type</th>\n",
              "      <th>user_birth_year</th>\n",
              "      <th>duration_time</th>\n",
              "    </tr>\n",
              "  </thead>\n",
              "  <tbody>\n",
              "    <tr>\n",
              "      <th>count</th>\n",
              "      <td>25760.000000</td>\n",
              "      <td>25760.000000</td>\n",
              "      <td>25760.000000</td>\n",
              "      <td>25760.000000</td>\n",
              "      <td>25760.000000</td>\n",
              "      <td>25760.000000</td>\n",
              "      <td>25760.000000</td>\n",
              "    </tr>\n",
              "    <tr>\n",
              "      <th>mean</th>\n",
              "      <td>12879.500000</td>\n",
              "      <td>31.023602</td>\n",
              "      <td>89.558579</td>\n",
              "      <td>4107.621467</td>\n",
              "      <td>2.008385</td>\n",
              "      <td>1983.054969</td>\n",
              "      <td>11.389053</td>\n",
              "    </tr>\n",
              "    <tr>\n",
              "      <th>std</th>\n",
              "      <td>7436.415803</td>\n",
              "      <td>26.409263</td>\n",
              "      <td>105.144103</td>\n",
              "      <td>1576.315767</td>\n",
              "      <td>0.704541</td>\n",
              "      <td>10.010992</td>\n",
              "      <td>23.500516</td>\n",
              "    </tr>\n",
              "    <tr>\n",
              "      <th>min</th>\n",
              "      <td>0.000000</td>\n",
              "      <td>3.000000</td>\n",
              "      <td>3.000000</td>\n",
              "      <td>11.000000</td>\n",
              "      <td>1.000000</td>\n",
              "      <td>1901.000000</td>\n",
              "      <td>1.000000</td>\n",
              "    </tr>\n",
              "    <tr>\n",
              "      <th>25%</th>\n",
              "      <td>6439.750000</td>\n",
              "      <td>15.000000</td>\n",
              "      <td>21.000000</td>\n",
              "      <td>3106.000000</td>\n",
              "      <td>2.000000</td>\n",
              "      <td>1978.000000</td>\n",
              "      <td>6.000000</td>\n",
              "    </tr>\n",
              "    <tr>\n",
              "      <th>50%</th>\n",
              "      <td>12879.500000</td>\n",
              "      <td>21.000000</td>\n",
              "      <td>58.000000</td>\n",
              "      <td>4821.000000</td>\n",
              "      <td>2.000000</td>\n",
              "      <td>1985.000000</td>\n",
              "      <td>9.000000</td>\n",
              "    </tr>\n",
              "    <tr>\n",
              "      <th>75%</th>\n",
              "      <td>19319.250000</td>\n",
              "      <td>67.000000</td>\n",
              "      <td>93.000000</td>\n",
              "      <td>5257.000000</td>\n",
              "      <td>3.000000</td>\n",
              "      <td>1990.000000</td>\n",
              "      <td>13.000000</td>\n",
              "    </tr>\n",
              "    <tr>\n",
              "      <th>max</th>\n",
              "      <td>25759.000000</td>\n",
              "      <td>81.000000</td>\n",
              "      <td>383.000000</td>\n",
              "      <td>6638.000000</td>\n",
              "      <td>3.000000</td>\n",
              "      <td>2001.000000</td>\n",
              "      <td>1372.000000</td>\n",
              "    </tr>\n",
              "  </tbody>\n",
              "</table>\n",
              "</div>"
            ],
            "text/plain": [
              "         Unnamed: 0  station_A_id  ...  user_birth_year  duration_time\n",
              "count  25760.000000  25760.000000  ...     25760.000000   25760.000000\n",
              "mean   12879.500000     31.023602  ...      1983.054969      11.389053\n",
              "std     7436.415803     26.409263  ...        10.010992      23.500516\n",
              "min        0.000000      3.000000  ...      1901.000000       1.000000\n",
              "25%     6439.750000     15.000000  ...      1978.000000       6.000000\n",
              "50%    12879.500000     21.000000  ...      1985.000000       9.000000\n",
              "75%    19319.250000     67.000000  ...      1990.000000      13.000000\n",
              "max    25759.000000     81.000000  ...      2001.000000    1372.000000\n",
              "\n",
              "[8 rows x 7 columns]"
            ]
          },
          "metadata": {
            "tags": []
          },
          "execution_count": 11
        }
      ]
    },
    {
      "cell_type": "code",
      "metadata": {
        "colab": {
          "base_uri": "https://localhost:8080/"
        },
        "id": "saZGcIleYAzK",
        "outputId": "95a6e8e0-8210-4e34-9579-ab420e4bd248"
      },
      "source": [
        "# Convert tire_sizes to integer\n",
        "ride_sharing['user_type'] = ride_sharing['user_type'].astype('int')\n",
        "\n",
        "# Set all values above 27 to 27\n",
        "ride_sharing.loc[ride_sharing['user_type'] > 27, 'user_type'] = 27\n",
        "\n",
        "# Reconvert tire_sizes back to categorical\n",
        "ride_sharing['user_type'] = ride_sharing['user_type'].astype('category')\n",
        "\n",
        "# Print tire size description\n",
        "print(ride_sharing['user_type'].describe())"
      ],
      "execution_count": null,
      "outputs": [
        {
          "output_type": "stream",
          "text": [
            "count     25760\n",
            "unique        3\n",
            "top           2\n",
            "freq      12972\n",
            "Name: user_type, dtype: int64\n"
          ],
          "name": "stdout"
        }
      ]
    },
    {
      "cell_type": "code",
      "metadata": {
        "colab": {
          "base_uri": "https://localhost:8080/"
        },
        "id": "CA20gfrVPSnw",
        "outputId": "0296781a-4d09-4c24-9a31-bef4baf9b2c5"
      },
      "source": [
        "ride_sharing.user_birth_year"
      ],
      "execution_count": null,
      "outputs": [
        {
          "output_type": "execute_result",
          "data": {
            "text/plain": [
              "0        1959\n",
              "1        1965\n",
              "2        1993\n",
              "3        1979\n",
              "4        1994\n",
              "         ... \n",
              "25755    2000\n",
              "25756    1998\n",
              "25757    1995\n",
              "25758    1995\n",
              "25759    1990\n",
              "Name: user_birth_year, Length: 25760, dtype: int64"
            ]
          },
          "metadata": {
            "tags": []
          },
          "execution_count": 12
        }
      ]
    },
    {
      "cell_type": "code",
      "metadata": {
        "colab": {
          "base_uri": "https://localhost:8080/"
        },
        "id": "2LZdz5gYZBYn",
        "outputId": "c9effd97-3499-48dd-e8d1-668570884954"
      },
      "source": [
        "# Convert ride_date to datetime\n",
        "ride_sharing['user_birth_year'] = pd.to_datetime(ride_sharing['user_birth_year'])\n",
        "\n",
        "import datetime as dt \n",
        "# Save today's date\n",
        "today = dt.datetime.today()\n",
        "\n",
        "# Set all in the future to today's date\n",
        "ride_sharing.loc[ride_sharing['user_birth_year'] > today, 'user_birth_year'] = today\n",
        "\n",
        "# Print maximum of ride_dt column\n",
        "print(ride_sharing['user_birth_year'].max())\n",
        "print(today)"
      ],
      "execution_count": null,
      "outputs": [
        {
          "output_type": "stream",
          "text": [
            "1970-01-01 00:00:00.000002001\n",
            "2020-11-25 16:30:08.432804\n"
          ],
          "name": "stdout"
        }
      ]
    },
    {
      "cell_type": "code",
      "metadata": {
        "colab": {
          "base_uri": "https://localhost:8080/"
        },
        "id": "Kn2zpuGEPZT6",
        "outputId": "2b806e58-9caa-490a-c4a6-3ff650e4c0d6"
      },
      "source": [
        "ride_sharing.user_birth_year"
      ],
      "execution_count": null,
      "outputs": [
        {
          "output_type": "execute_result",
          "data": {
            "text/plain": [
              "0       1970-01-01 00:00:00.000001959\n",
              "1       1970-01-01 00:00:00.000001965\n",
              "2       1970-01-01 00:00:00.000001993\n",
              "3       1970-01-01 00:00:00.000001979\n",
              "4       1970-01-01 00:00:00.000001994\n",
              "                     ...             \n",
              "25755   1970-01-01 00:00:00.000002000\n",
              "25756   1970-01-01 00:00:00.000001998\n",
              "25757   1970-01-01 00:00:00.000001995\n",
              "25758   1970-01-01 00:00:00.000001995\n",
              "25759   1970-01-01 00:00:00.000001990\n",
              "Name: user_birth_year, Length: 25760, dtype: datetime64[ns]"
            ]
          },
          "metadata": {
            "tags": []
          },
          "execution_count": 14
        }
      ]
    },
    {
      "cell_type": "code",
      "metadata": {
        "id": "qi6Rk2bbCMK4"
      },
      "source": [
        "1997 ==== yyyy-dd-mm, yyyy-mm-dd"
      ],
      "execution_count": null,
      "outputs": []
    },
    {
      "cell_type": "code",
      "metadata": {
        "id": "6QB5in0TQU6m"
      },
      "source": [
        "mode, mean and median\n",
        "\n",
        "(1+1+3+4+6)/5\n",
        "\n",
        "1, 2, 3, 4, 5, 6, 7,8,9, 10, 11, 12\n",
        "\n",
        "list = []\n",
        "list.median"
      ],
      "execution_count": null,
      "outputs": []
    },
    {
      "cell_type": "code",
      "metadata": {
        "colab": {
          "base_uri": "https://localhost:8080/"
        },
        "id": "kVdbwqw9Zdly",
        "outputId": "30c4aea0-7621-4e36-de81-bde91290a196"
      },
      "source": [
        "# Find duplicates\n",
        "duplicates = ride_sharing.duplicated(subset='bike_id', keep=False)\n",
        "\n",
        "# Sort your duplicated rides\n",
        "duplicated_rides = ride_sharing[duplicates].sort_values('bike_id')\n",
        "\n",
        "# Print relevant columns of duplicated_rides\n",
        "print(duplicated_rides[['bike_id','duration','user_birth_year']])"
      ],
      "execution_count": null,
      "outputs": [
        {
          "output_type": "stream",
          "text": [
            "       bike_id    duration  user_birth_year\n",
            "3638        11  12 minutes             1988\n",
            "6088        11   5 minutes             1985\n",
            "10857       11   4 minutes             1987\n",
            "10045       27  13 minutes             1989\n",
            "16104       27  10 minutes             1970\n",
            "...        ...         ...              ...\n",
            "8812      6638  10 minutes             1986\n",
            "6815      6638   5 minutes             1995\n",
            "8456      6638   7 minutes             1983\n",
            "8300      6638   6 minutes             1962\n",
            "8380      6638   8 minutes             1984\n",
            "\n",
            "[25717 rows x 3 columns]\n"
          ],
          "name": "stdout"
        }
      ]
    },
    {
      "cell_type": "code",
      "metadata": {
        "id": "5GwvYr3ITUrL"
      },
      "source": [
        "drop_duplicate.......... multan , karachi \n",
        "drop_duplicate(multan, multan, multan) == multan"
      ],
      "execution_count": null,
      "outputs": []
    },
    {
      "cell_type": "code",
      "metadata": {
        "id": "0S4wRFoxTBej"
      },
      "source": [
        "pakistan, multan, lahore, islamabad, karachi; USA (california, texas, michigan)\n",
        "groupby('country')=\n",
        "pakistan\n",
        "USA"
      ],
      "execution_count": null,
      "outputs": []
    },
    {
      "cell_type": "code",
      "metadata": {
        "colab": {
          "base_uri": "https://localhost:8080/"
        },
        "id": "Gr8AQj3zq4Ts",
        "outputId": "233d3246-c596-4b8d-eff3-a0d4ca84cdf6"
      },
      "source": [
        "# Drop complete duplicates from ride_sharing\n",
        "ride_dup = ride_sharing.drop_duplicates()\n",
        "\n",
        "# Group by ride_id and compute new statistics\n",
        "ride_unique = ride_dup.groupby('bike_id')\n",
        "\n",
        "# Assert duplicates are processed\n",
        "print(ride_dup)"
      ],
      "execution_count": null,
      "outputs": [
        {
          "output_type": "stream",
          "text": [
            "       Unnamed: 0    duration  ...               user_birth_year user_gender\n",
            "0               0  12 minutes  ... 1970-01-01 00:00:00.000001959        Male\n",
            "1               1  24 minutes  ... 1970-01-01 00:00:00.000001965        Male\n",
            "2               2   8 minutes  ... 1970-01-01 00:00:00.000001993        Male\n",
            "3               3   4 minutes  ... 1970-01-01 00:00:00.000001979        Male\n",
            "4               4  11 minutes  ... 1970-01-01 00:00:00.000001994        Male\n",
            "...           ...         ...  ...                           ...         ...\n",
            "25755       25755  11 minutes  ... 1970-01-01 00:00:00.000002000        Male\n",
            "25756       25756  10 minutes  ... 1970-01-01 00:00:00.000001998        Male\n",
            "25757       25757  14 minutes  ... 1970-01-01 00:00:00.000001995        Male\n",
            "25758       25758  14 minutes  ... 1970-01-01 00:00:00.000001995        Male\n",
            "25759       25759  29 minutes  ... 1970-01-01 00:00:00.000001990        Male\n",
            "\n",
            "[25760 rows x 10 columns]\n"
          ],
          "name": "stdout"
        }
      ]
    },
    {
      "cell_type": "code",
      "metadata": {
        "id": "SZMQn8XnZyJX"
      },
      "source": [
        "Chapter 5\n",
        "topic 5.2\n",
        "you’ll learn how to fix whitespace and capitalization inconsistencies in \n",
        "category labels, collapse multiple categories into one, and reformat strings \n",
        "for consistency."
      ],
      "execution_count": null,
      "outputs": []
    },
    {
      "cell_type": "code",
      "metadata": {
        "id": "B5KKOFS_MsoG"
      },
      "source": [
        "import pandas as pd\n",
        "import matplotlib.pyplot as plt\n",
        "import numpy as np\n",
        "\n",
        "airlines = pd.read_csv('airlines_final.csv')"
      ],
      "execution_count": null,
      "outputs": []
    },
    {
      "cell_type": "code",
      "metadata": {
        "colab": {
          "base_uri": "https://localhost:8080/"
        },
        "id": "JHAY27x0iocz",
        "outputId": "a5a48732-49f8-4dd3-a99d-fc80b009e659"
      },
      "source": [
        "# Print categories DataFrame\n",
        "print(airlines.head())"
      ],
      "execution_count": null,
      "outputs": [
        {
          "output_type": "stream",
          "text": [
            "   Unnamed: 0    id  ...         safety        satisfaction\n",
            "0           0  1351  ...        Neutral      Very satisfied\n",
            "1           1   373  ...      Very safe      Very satisfied\n",
            "2           2  2820  ...  Somewhat safe             Neutral\n",
            "3           3  1157  ...      Very safe  Somewhat satsified\n",
            "4           4  2992  ...      Very safe  Somewhat satsified\n",
            "\n",
            "[5 rows x 13 columns]\n"
          ],
          "name": "stdout"
        }
      ]
    },
    {
      "cell_type": "code",
      "metadata": {
        "colab": {
          "base_uri": "https://localhost:8080/"
        },
        "id": "lQaml1Fvk0az",
        "outputId": "f63ccf8a-c1d0-4ebd-c87a-5c5f637c7491"
      },
      "source": [
        "airlines.info()"
      ],
      "execution_count": null,
      "outputs": [
        {
          "output_type": "stream",
          "text": [
            "<class 'pandas.core.frame.DataFrame'>\n",
            "RangeIndex: 2477 entries, 0 to 2476\n",
            "Data columns (total 13 columns):\n",
            " #   Column         Non-Null Count  Dtype  \n",
            "---  ------         --------------  -----  \n",
            " 0   Unnamed: 0     2477 non-null   int64  \n",
            " 1   id             2477 non-null   int64  \n",
            " 2   day            2477 non-null   object \n",
            " 3   airline        2477 non-null   object \n",
            " 4   destination    2477 non-null   object \n",
            " 5   dest_region    2477 non-null   object \n",
            " 6   dest_size      2477 non-null   object \n",
            " 7   boarding_area  2477 non-null   object \n",
            " 8   dept_time      2477 non-null   object \n",
            " 9   wait_min       2477 non-null   float64\n",
            " 10  cleanliness    2477 non-null   object \n",
            " 11  safety         2477 non-null   object \n",
            " 12  satisfaction   2477 non-null   object \n",
            "dtypes: float64(1), int64(2), object(10)\n",
            "memory usage: 251.7+ KB\n"
          ],
          "name": "stdout"
        }
      ]
    },
    {
      "cell_type": "code",
      "metadata": {
        "colab": {
          "base_uri": "https://localhost:8080/"
        },
        "id": "4lKKMHWfjl0o",
        "outputId": "1b320928-61e5-48be-aebd-4e74c1a06cff"
      },
      "source": [
        "airlines.columns"
      ],
      "execution_count": null,
      "outputs": [
        {
          "output_type": "execute_result",
          "data": {
            "text/plain": [
              "Index(['Unnamed: 0', 'id', 'day', 'airline', 'destination', 'dest_region',\n",
              "       'dest_size', 'boarding_area', 'dept_time', 'wait_min', 'cleanliness',\n",
              "       'safety', 'satisfaction'],\n",
              "      dtype='object')"
            ]
          },
          "metadata": {
            "tags": []
          },
          "execution_count": 5
        }
      ]
    },
    {
      "cell_type": "code",
      "metadata": {
        "colab": {
          "base_uri": "https://localhost:8080/"
        },
        "id": "9D3nEdESkQWj",
        "outputId": "14bed1db-a6b7-474a-8731-efdc67c6603f"
      },
      "source": [
        "airlines.id"
      ],
      "execution_count": null,
      "outputs": [
        {
          "output_type": "execute_result",
          "data": {
            "text/plain": [
              "0       1351\n",
              "1        373\n",
              "2       2820\n",
              "3       1157\n",
              "4       2992\n",
              "        ... \n",
              "2472    1475\n",
              "2473    2222\n",
              "2474    2684\n",
              "2475    2549\n",
              "2476    2162\n",
              "Name: id, Length: 2477, dtype: int64"
            ]
          },
          "metadata": {
            "tags": []
          },
          "execution_count": 6
        }
      ]
    },
    {
      "cell_type": "code",
      "metadata": {
        "colab": {
          "base_uri": "https://localhost:8080/"
        },
        "id": "VZJwbZpuktJ_",
        "outputId": "67303d34-5caf-4609-8455-8a5b115e4c65"
      },
      "source": [
        "airlines.satisfaction"
      ],
      "execution_count": null,
      "outputs": [
        {
          "output_type": "execute_result",
          "data": {
            "text/plain": [
              "0           Very satisfied\n",
              "1           Very satisfied\n",
              "2                  Neutral\n",
              "3       Somewhat satsified\n",
              "4       Somewhat satsified\n",
              "               ...        \n",
              "2472    Somewhat satsified\n",
              "2473        Very satisfied\n",
              "2474        Very satisfied\n",
              "2475        Very satisfied\n",
              "2476    Somewhat satsified\n",
              "Name: satisfaction, Length: 2477, dtype: object"
            ]
          },
          "metadata": {
            "tags": []
          },
          "execution_count": 7
        }
      ]
    },
    {
      "cell_type": "code",
      "metadata": {
        "id": "f89thvqoX4HK"
      },
      "source": [
        "imputer == replace === map(very:1, 0, 0,0,0), lambda === data['column']=data[column].mean, for filna\n",
        "get_dummies==oneHotecoding == "
      ],
      "execution_count": null,
      "outputs": []
    },
    {
      "cell_type": "code",
      "metadata": {
        "colab": {
          "base_uri": "https://localhost:8080/"
        },
        "id": "LfCmlo8M-mqa",
        "outputId": "5a249af5-9c37-40a2-905b-ef3b4d7adfd8"
      },
      "source": [
        "# Print unique values of survey columns in airlines\n",
        "print('Cleanliness: ', airlines['cleanliness'].unique(), \"\\n\")\n",
        "print('Safety: ', airlines['safety'].unique(), \"\\n\")\n",
        "print('Satisfaction: ', airlines['satisfaction'].unique(), \"\\n\")"
      ],
      "execution_count": null,
      "outputs": [
        {
          "output_type": "stream",
          "text": [
            "Cleanliness:  ['Clean' 'Average' 'Somewhat clean' 'Somewhat dirty' 'Dirty'] \n",
            "\n",
            "Safety:  ['Neutral' 'Very safe' 'Somewhat safe' 'Very unsafe' 'Somewhat unsafe'] \n",
            "\n",
            "Satisfaction:  ['Very satisfied' 'Neutral' 'Somewhat satsified' 'Somewhat unsatisfied'\n",
            " 'Very unsatisfied'] \n",
            "\n"
          ],
          "name": "stdout"
        }
      ]
    },
    {
      "cell_type": "code",
      "metadata": {
        "colab": {
          "base_uri": "https://localhost:8080/"
        },
        "id": "vpO8kJmFDZh6",
        "outputId": "49f71d59-89d9-4232-948b-1bb85cfc3683"
      },
      "source": [
        "# Print unique values of both columns\n",
        "print(airlines['dest_region'].unique())\n",
        "print(airlines['dest_size'].unique())"
      ],
      "execution_count": null,
      "outputs": [
        {
          "output_type": "stream",
          "text": [
            "['Asia' 'Canada/Mexico' 'West US' 'East US' 'Midwest US' 'EAST US'\n",
            " 'Middle East' 'Europe' 'eur' 'Central/South America'\n",
            " 'Australia/New Zealand' 'middle east']\n",
            "['Hub' 'Small' '    Hub' 'Medium' 'Large' 'Hub     ' '    Small'\n",
            " 'Medium     ' '    Medium' 'Small     ' '    Large' 'Large     ']\n"
          ],
          "name": "stdout"
        }
      ]
    },
    {
      "cell_type": "code",
      "metadata": {
        "id": "w61fc-vDckwq"
      },
      "source": [
        "0 100== 0-20, kids, 20 50, adult, 50 100 old"
      ],
      "execution_count": null,
      "outputs": []
    },
    {
      "cell_type": "code",
      "metadata": {
        "id": "VkB7nFekDaZ4"
      },
      "source": [
        "# Create ranges for categories\n",
        "label_ranges = [0, 60, 180, np.inf]\n",
        "label_names = ['short', 'medium', 'long']\n",
        "\n",
        "# Create wait_type column\n",
        "airlines['wait_type'] = pd.cut(airlines['wait_min'], bins = label_ranges, \n",
        "                               labels = label_names)\n",
        "\n",
        "# Create mappings and replace\n",
        "mappings = {'Monday':'weekday', 'Tuesday':'weekday', 'Wednesday': 'weekday', \n",
        "            'Thursday': 'weekday', 'Friday': 'weekday', \n",
        "            'Saturday': 'weekend', 'Sunday': 'weekend'}\n",
        "\n",
        "airlines['day_week'] = airlines['day'].replace(mappings)"
      ],
      "execution_count": null,
      "outputs": []
    },
    {
      "cell_type": "code",
      "metadata": {
        "id": "Bv4ykhoNDkmC"
      },
      "source": [
        "# Replace \"Dr.\" with empty string \"\"\n",
        "airlines['day_week'] = airlines['day_week'].str.replace(\"Dr.\",\"\")\n",
        "\n",
        "# Replace \"Mr.\" with empty string \"\"\n",
        "airlines['day_week'] = airlines['day_week'].str.replace(\"Mr.\",\"\")\n",
        "\n",
        "# Replace \"Miss\" with empty string \"\"\n",
        "airlines['day_week'] = airlines['day_week'].str.replace(\"Miss\",\"\")\n",
        "\n",
        "# Replace \"Ms.\" with empty string \"\"\n",
        "airlines['day_week'] = airlines['day_week'].str.replace(\"Ms.\",\"\")\n",
        "\n",
        "# Assert that full_name has no honorifics\n",
        "assert airlines['day_week'].str.contains('Ms.|Mr.|Miss|Dr.').any() == False"
      ],
      "execution_count": null,
      "outputs": []
    },
    {
      "cell_type": "code",
      "metadata": {
        "colab": {
          "base_uri": "https://localhost:8080/",
          "height": 235
        },
        "id": "DNM2QCnjDobQ",
        "outputId": "09a008d9-e858-4987-faaa-f9c1573f8b7f"
      },
      "source": [
        "# Store length of each row in survey_response column\n",
        "resp_length = airlines['day_week'].str.len()\n",
        "\n",
        "# Find rows in airlines where resp_length > 40\n",
        "airlines_survey = airlines[resp_length > 40]\n",
        "\n",
        "# Assert minimum survey_response length is > 40\n",
        "assert airlines_survey['day_week'].str.len().min() > 40\n",
        "\n",
        "# Print new survey_response column\n",
        "print(airlines_survey['day_week'])"
      ],
      "execution_count": null,
      "outputs": [
        {
          "output_type": "error",
          "ename": "AssertionError",
          "evalue": "ignored",
          "traceback": [
            "\u001b[0;31m---------------------------------------------------------------------------\u001b[0m",
            "\u001b[0;31mAssertionError\u001b[0m                            Traceback (most recent call last)",
            "\u001b[0;32m<ipython-input-11-635e9e165f9f>\u001b[0m in \u001b[0;36m<module>\u001b[0;34m()\u001b[0m\n\u001b[1;32m      6\u001b[0m \u001b[0;34m\u001b[0m\u001b[0m\n\u001b[1;32m      7\u001b[0m \u001b[0;31m# Assert minimum survey_response length is > 40\u001b[0m\u001b[0;34m\u001b[0m\u001b[0;34m\u001b[0m\u001b[0;34m\u001b[0m\u001b[0m\n\u001b[0;32m----> 8\u001b[0;31m \u001b[0;32massert\u001b[0m \u001b[0mairlines_survey\u001b[0m\u001b[0;34m[\u001b[0m\u001b[0;34m'day_week'\u001b[0m\u001b[0;34m]\u001b[0m\u001b[0;34m.\u001b[0m\u001b[0mstr\u001b[0m\u001b[0;34m.\u001b[0m\u001b[0mlen\u001b[0m\u001b[0;34m(\u001b[0m\u001b[0;34m)\u001b[0m\u001b[0;34m.\u001b[0m\u001b[0mmin\u001b[0m\u001b[0;34m(\u001b[0m\u001b[0;34m)\u001b[0m \u001b[0;34m>\u001b[0m \u001b[0;36m40\u001b[0m\u001b[0;34m\u001b[0m\u001b[0;34m\u001b[0m\u001b[0m\n\u001b[0m\u001b[1;32m      9\u001b[0m \u001b[0;34m\u001b[0m\u001b[0m\n\u001b[1;32m     10\u001b[0m \u001b[0;31m# Print new survey_response column\u001b[0m\u001b[0;34m\u001b[0m\u001b[0;34m\u001b[0m\u001b[0;34m\u001b[0m\u001b[0m\n",
            "\u001b[0;31mAssertionError\u001b[0m: "
          ]
        }
      ]
    },
    {
      "cell_type": "code",
      "metadata": {
        "id": "WlMQCuMJj_xg"
      },
      "source": [
        "Chapter 5\n",
        "topic 5.3\n",
        "you’ll dive into more advanced data cleaning problems,\n",
        " such as ensuring that weights are all written in kilograms instead of pounds."
      ],
      "execution_count": null,
      "outputs": []
    },
    {
      "cell_type": "code",
      "metadata": {
        "colab": {
          "base_uri": "https://localhost:8080/"
        },
        "id": "e2giNSoAq51X",
        "outputId": "f14fb844-408a-486d-a20c-afd12dc6977d"
      },
      "source": [
        "import pandas as pd\n",
        "import matplotlib.pyplot as plt\n",
        "import numpy as np\n",
        "\n",
        "banking = pd.read_csv('banking_dirty.csv')\n",
        "banking.columns"
      ],
      "execution_count": null,
      "outputs": [
        {
          "output_type": "execute_result",
          "data": {
            "text/plain": [
              "Index(['Unnamed: 0', 'cust_id', 'birth_date', 'Age', 'acct_amount',\n",
              "       'inv_amount', 'fund_A', 'fund_B', 'fund_C', 'fund_D', 'account_opened',\n",
              "       'last_transaction'],\n",
              "      dtype='object')"
            ]
          },
          "metadata": {
            "tags": []
          },
          "execution_count": 13
        }
      ]
    },
    {
      "cell_type": "code",
      "metadata": {
        "id": "gHwphI7qqx7P"
      },
      "source": [
        "# Find values of acct_cur that are equal to 'euro'\n",
        "acct_eu = banking['inv_amount'] == 'euro'\n",
        "\n",
        "# Convert acct_amount where it is in euro to dollars\n",
        "banking.loc[acct_eu, 'acct_amount'] = banking.loc[acct_eu, 'acct_amount'] * 1.1 \n",
        "\n",
        "# Unify acct_cur column by changing 'euro' values to 'dollar'\n",
        "banking.loc[acct_eu, 'inv_amount'] = 'dollar'\n",
        "\n",
        "# Print unique values of acct_cur\n",
        "#assert banking['inv_amount'].unique() == 'dollar'"
      ],
      "execution_count": null,
      "outputs": []
    },
    {
      "cell_type": "code",
      "metadata": {
        "colab": {
          "base_uri": "https://localhost:8080/"
        },
        "id": "Ot_ceu14rUB2",
        "outputId": "7b10add4-f560-4a90-fb80-ff3a8ff5fac6"
      },
      "source": [
        "# Print the header of account_opened\n",
        "print(banking.account_opened.head())"
      ],
      "execution_count": null,
      "outputs": [
        {
          "output_type": "stream",
          "text": [
            "0    02-09-18\n",
            "1    28-02-19\n",
            "2    25-04-18\n",
            "3    07-11-17\n",
            "4    14-05-18\n",
            "Name: account_opened, dtype: object\n"
          ],
          "name": "stdout"
        }
      ]
    },
    {
      "cell_type": "code",
      "metadata": {
        "colab": {
          "base_uri": "https://localhost:8080/"
        },
        "id": "IjC-Le2Hr6sg",
        "outputId": "fde4214d-759c-4de6-aa56-6d91ef8324de"
      },
      "source": [
        "# Store fund columns to sum against\n",
        "fund_columns = ['fund_A', 'fund_B', 'fund_C', 'fund_D']\n",
        "\n",
        "# Find rows where fund_columns row sum == inv_amount\n",
        "inv_equ = banking[fund_columns].sum(axis = 1) == banking['inv_amount']\n",
        "\n",
        "# Store consistent and inconsistent data\n",
        "consistent_inv = banking[inv_equ]\n",
        "inconsistent_inv = banking[~inv_equ]\n",
        "\n",
        "# Store consistent and inconsistent data\n",
        "print(\"Number of inconsistent investments: \", inconsistent_inv.shape[0])"
      ],
      "execution_count": null,
      "outputs": [
        {
          "output_type": "stream",
          "text": [
            "Number of inconsistent investments:  8\n"
          ],
          "name": "stdout"
        }
      ]
    },
    {
      "cell_type": "code",
      "metadata": {
        "colab": {
          "base_uri": "https://localhost:8080/"
        },
        "id": "4ujDkBwLsAeR",
        "outputId": "aa89181c-c1a3-4347-91c5-60e94115ed68"
      },
      "source": [
        "# Print number of missing values in banking\n",
        "print(banking.isna().sum())\n",
        "\n",
        "# Visualize missingness matrix\n",
        "#msno.matrix(banking)\n",
        "plt.show()"
      ],
      "execution_count": null,
      "outputs": [
        {
          "output_type": "stream",
          "text": [
            "Unnamed: 0          0\n",
            "cust_id             0\n",
            "birth_date          0\n",
            "Age                 0\n",
            "acct_amount         0\n",
            "inv_amount          0\n",
            "fund_A              0\n",
            "fund_B              0\n",
            "fund_C              0\n",
            "fund_D              0\n",
            "account_opened      0\n",
            "last_transaction    0\n",
            "dtype: int64\n"
          ],
          "name": "stdout"
        }
      ]
    },
    {
      "cell_type": "code",
      "metadata": {
        "colab": {
          "base_uri": "https://localhost:8080/"
        },
        "id": "tI83lHG_sGEy",
        "outputId": "18b6d103-30dc-4503-e8da-4c51f41e48ed"
      },
      "source": [
        "# Drop missing values of cust_id\n",
        "banking_fullid = banking.dropna(subset = ['cust_id'])\n",
        "\n",
        "# Compute estimated acct_amount\n",
        "acct_imp = banking_fullid['inv_amount'] * 5\n",
        "\n",
        "# Impute missing acct_amount with corresponding acct_imp\n",
        "banking_imputed = banking_fullid.fillna({'acct_amount':acct_imp})\n",
        "\n",
        "# Print number of missing values\n",
        "print(banking_imputed.isna().sum())"
      ],
      "execution_count": null,
      "outputs": [
        {
          "output_type": "stream",
          "text": [
            "Unnamed: 0          0\n",
            "cust_id             0\n",
            "birth_date          0\n",
            "Age                 0\n",
            "acct_amount         0\n",
            "inv_amount          0\n",
            "fund_A              0\n",
            "fund_B              0\n",
            "fund_C              0\n",
            "fund_D              0\n",
            "account_opened      0\n",
            "last_transaction    0\n",
            "dtype: int64\n"
          ],
          "name": "stdout"
        }
      ]
    }
  ]
}