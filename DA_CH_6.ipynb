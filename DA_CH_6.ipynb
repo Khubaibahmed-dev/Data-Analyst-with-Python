{
  "nbformat": 4,
  "nbformat_minor": 0,
  "metadata": {
    "colab": {
      "name": "DA-CH-6.ipynb",
      "provenance": []
    },
    "kernelspec": {
      "name": "python3",
      "display_name": "Python 3"
    }
  },
  "cells": [
    {
      "cell_type": "code",
      "metadata": {
        "id": "G5hQ4YBSQ0q0"
      },
      "source": [
        "Chapter 6\n",
        "topic 6.1\n",
        "The first step of almost any data project is to read the data, \n",
        "check for errors and special cases, and prepare data for analysis."
      ],
      "execution_count": null,
      "outputs": []
    },
    {
      "cell_type": "code",
      "metadata": {
        "id": "Zt2YUK2qRoh0"
      },
      "source": [
        "import pandas as pd\n",
        "import matplotlib.pyplot as plt\n",
        "import numpy as np\n",
        "\n",
        "nsfg = pd.read_hdf('nsfg.hdf5', 'nsfg')\n",
        "\n",
        "# Select column birthwgt_oz1: ounces\n",
        "ounces=nsfg['birthwgt_oz1']"
      ],
      "execution_count": null,
      "outputs": []
    },
    {
      "cell_type": "code",
      "metadata": {
        "colab": {
          "base_uri": "https://localhost:8080/"
        },
        "id": "5olSmn10R9Q1",
        "outputId": "5fbd3124-6a9a-48ff-cf1e-e05d6a6b4a59"
      },
      "source": [
        "# Print the first 5 elements of ounces\n",
        "print(ounces.head())"
      ],
      "execution_count": null,
      "outputs": [
        {
          "output_type": "stream",
          "text": [
            "0     4.0\n",
            "1    12.0\n",
            "2     4.0\n",
            "3     NaN\n",
            "4    13.0\n",
            "Name: birthwgt_oz1, dtype: float64\n"
          ],
          "name": "stdout"
        }
      ]
    },
    {
      "cell_type": "code",
      "metadata": {
        "colab": {
          "base_uri": "https://localhost:8080/"
        },
        "id": "aMgyhOqLRHtO",
        "outputId": "69e47c39-a63f-4a25-af17-422fefbd1433"
      },
      "source": [
        "# Display the number of rows and columns\n",
        "nsfg.shape"
      ],
      "execution_count": null,
      "outputs": [
        {
          "output_type": "execute_result",
          "data": {
            "text/plain": [
              "(9358, 10)"
            ]
          },
          "metadata": {
            "tags": []
          },
          "execution_count": 4
        }
      ]
    },
    {
      "cell_type": "code",
      "metadata": {
        "colab": {
          "base_uri": "https://localhost:8080/"
        },
        "id": "4zUGssAZRx4c",
        "outputId": "d7b8a2f2-c771-4d16-930f-d6fb789e04ec"
      },
      "source": [
        "# Display the names of the columns\n",
        "nsfg.columns"
      ],
      "execution_count": null,
      "outputs": [
        {
          "output_type": "execute_result",
          "data": {
            "text/plain": [
              "Index(['caseid', 'outcome', 'birthwgt_lb1', 'birthwgt_oz1', 'prglngth',\n",
              "       'nbrnaliv', 'agecon', 'agepreg', 'hpagelb', 'wgt2013_2015'],\n",
              "      dtype='object')"
            ]
          },
          "metadata": {
            "tags": []
          },
          "execution_count": 5
        }
      ]
    },
    {
      "cell_type": "code",
      "metadata": {
        "colab": {
          "base_uri": "https://localhost:8080/"
        },
        "id": "tIHum2YPRya8",
        "outputId": "90231064-bb03-4fdd-d7b9-495825431c6d"
      },
      "source": [
        "# Replace the value 8 with NaN\n",
        "nsfg['nbrnaliv'].replace(8, np.nan, inplace=True)\n",
        "\n",
        "# Print the values and their frequencies\n",
        "print(nsfg['nbrnaliv'].value_counts())"
      ],
      "execution_count": null,
      "outputs": [
        {
          "output_type": "stream",
          "text": [
            "1.0    6379\n",
            "2.0     100\n",
            "3.0       5\n",
            "Name: nbrnaliv, dtype: int64\n"
          ],
          "name": "stdout"
        }
      ]
    },
    {
      "cell_type": "code",
      "metadata": {
        "id": "dOLxMVqcSQHM"
      },
      "source": [
        "# Select the columns and divide by 100\n",
        "agecon = nsfg['agecon']/100\n",
        "agepreg = nsfg['agepreg']/100"
      ],
      "execution_count": null,
      "outputs": []
    },
    {
      "cell_type": "code",
      "metadata": {
        "id": "RaaI4iVYSUW9"
      },
      "source": [
        "\n",
        "# Compute the difference\n",
        "preg_length = agepreg-agecon"
      ],
      "execution_count": null,
      "outputs": []
    },
    {
      "cell_type": "code",
      "metadata": {
        "colab": {
          "base_uri": "https://localhost:8080/"
        },
        "id": "lF3sqsc5SXyU",
        "outputId": "bbc72587-ec00-46e3-de42-4637c34f6750"
      },
      "source": [
        "\n",
        "# Compute summary statistics\n",
        "print(preg_length.describe())"
      ],
      "execution_count": null,
      "outputs": [
        {
          "output_type": "stream",
          "text": [
            "count    9109.000000\n",
            "mean        0.552069\n",
            "std         0.271479\n",
            "min         0.000000\n",
            "25%         0.250000\n",
            "50%         0.670000\n",
            "75%         0.750000\n",
            "max         0.920000\n",
            "dtype: float64\n"
          ],
          "name": "stdout"
        }
      ]
    },
    {
      "cell_type": "code",
      "metadata": {
        "colab": {
          "base_uri": "https://localhost:8080/",
          "height": 279
        },
        "id": "zWjQUzfnSiGk",
        "outputId": "380575b2-6c9f-41b4-987f-2ba18b48b8fe"
      },
      "source": [
        "# Plot the histogram\n",
        "plt.hist(agecon, bins=20)\n",
        "\n",
        "# Label the axes\n",
        "plt.xlabel('Age at conception')\n",
        "plt.ylabel('Number of pregnancies')\n",
        "\n",
        "# Show the figure\n",
        "plt.show()"
      ],
      "execution_count": null,
      "outputs": [
        {
          "output_type": "display_data",
          "data": {
            "image/png": "[encoded data removed]",
            "text/plain": [
              "<Figure size 432x288 with 1 Axes>"
            ]
          },
          "metadata": {
            "tags": [],
            "needs_background": "light"
          }
        }
      ]
    },
    {
      "cell_type": "code",
      "metadata": {
        "colab": {
          "base_uri": "https://localhost:8080/",
          "height": 279
        },
        "id": "KOrngiHCSmhd",
        "outputId": "83395ee5-2720-4a62-bb6a-87345a04c04c"
      },
      "source": [
        "# Plot the histogram\n",
        "plt.hist(agecon, bins=20, histtype='step')\n",
        "\n",
        "# Label the axes\n",
        "plt.xlabel('Age at conception')\n",
        "plt.ylabel('Number of pregnancies')\n",
        "\n",
        "# Show the figure\n",
        "plt.show()"
      ],
      "execution_count": null,
      "outputs": [
        {
          "output_type": "display_data",
          "data": {
            "image/png": "[encoded data removed]",
            "text/plain": [
              "<Figure size 432x288 with 1 Axes>"
            ]
          },
          "metadata": {
            "tags": [],
            "needs_background": "light"
          }
        }
      ]
    },
    {
      "cell_type": "code",
      "metadata": {
        "colab": {
          "base_uri": "https://localhost:8080/"
        },
        "id": "e00ohGFiba6q",
        "outputId": "6cb2cb75-f26d-4fe8-d99f-938e9aba030e"
      },
      "source": [
        "nsfg.columns"
      ],
      "execution_count": null,
      "outputs": [
        {
          "output_type": "execute_result",
          "data": {
            "text/plain": [
              "Index(['caseid', 'outcome', 'birthwgt_lb1', 'birthwgt_oz1', 'prglngth',\n",
              "       'nbrnaliv', 'agecon', 'agepreg', 'hpagelb', 'wgt2013_2015'],\n",
              "      dtype='object')"
            ]
          },
          "metadata": {
            "tags": []
          },
          "execution_count": 24
        }
      ]
    },
    {
      "cell_type": "code",
      "metadata": {
        "colab": {
          "base_uri": "https://localhost:8080/"
        },
        "id": "z_HYMPNrSsYr",
        "outputId": "a99bed4f-948e-4eaa-e7e9-43b6cec6af20"
      },
      "source": [
        "# Create a Boolean Series for full-term babies\n",
        "full_term = nsfg['prglngth']>=37\n",
        "\n",
        "full_term"
      ],
      "execution_count": null,
      "outputs": [
        {
          "output_type": "execute_result",
          "data": {
            "text/plain": [
              "0        True\n",
              "1       False\n",
              "2       False\n",
              "3       False\n",
              "4        True\n",
              "        ...  \n",
              "9353    False\n",
              "9354     True\n",
              "9355    False\n",
              "9356     True\n",
              "9357     True\n",
              "Name: prglngth, Length: 9358, dtype: bool"
            ]
          },
          "metadata": {
            "tags": []
          },
          "execution_count": 25
        }
      ]
    },
    {
      "cell_type": "code",
      "metadata": {
        "colab": {
          "base_uri": "https://localhost:8080/"
        },
        "id": "d8OpP4_zSvah",
        "outputId": "53c6eb78-b400-403b-adae-eb3832f25f3b"
      },
      "source": [
        "# Filter full-term babies\n",
        "full_term = nsfg['prglngth'] >= 37\n",
        "\n",
        "# Filter single births\n",
        "single = nsfg['nbrnaliv']==1\n",
        "\n",
        "single"
      ],
      "execution_count": null,
      "outputs": [
        {
          "output_type": "execute_result",
          "data": {
            "text/plain": [
              "0        True\n",
              "1        True\n",
              "2        True\n",
              "3       False\n",
              "4        True\n",
              "        ...  \n",
              "9353     True\n",
              "9354     True\n",
              "9355     True\n",
              "9356     True\n",
              "9357     True\n",
              "Name: nbrnaliv, Length: 9358, dtype: bool"
            ]
          },
          "metadata": {
            "tags": []
          },
          "execution_count": 26
        }
      ]
    },
    {
      "cell_type": "code",
      "metadata": {
        "id": "p7bawusVSwIr"
      },
      "source": [
        "Chapter 6\n",
        "topic 6.2\n",
        "you'll learn how to represent distributions using \n",
        "Probability distributions."
      ],
      "execution_count": null,
      "outputs": []
    },
    {
      "cell_type": "code",
      "metadata": {
        "colab": {
          "base_uri": "https://localhost:8080/"
        },
        "id": "aF1DbaEHnbTz",
        "outputId": "e6e3b22c-c972-45f8-aa1b-fa67069b7c66"
      },
      "source": [
        "import pandas as pd\n",
        "import matplotlib.pyplot as plt\n",
        "import numpy as np\n",
        "\n",
        "gss = pd.read_hdf('gss.hdf5', 'gss')\n",
        "\n",
        "# Select head\n",
        "gss.head()\n",
        "gss.columns"
      ],
      "execution_count": 5,
      "outputs": [
        {
          "output_type": "execute_result",
          "data": {
            "text/plain": [
              "Index(['year', 'age', 'cohort', 'sex', 'race', 'educ', 'realinc', 'gunlaw',\n",
              "       'grass', 'wtssall'],\n",
              "      dtype='object')"
            ]
          },
          "metadata": {
            "tags": []
          },
          "execution_count": 5
        }
      ]
    },
    {
      "cell_type": "code",
      "metadata": {
        "colab": {
          "base_uri": "https://localhost:8080/",
          "height": 283
        },
        "id": "QFFoC3kRew79",
        "outputId": "717edb0c-16a7-488c-8668-572ebc25f062"
      },
      "source": [
        "gss['age'].hist(bins=20)"
      ],
      "execution_count": null,
      "outputs": [
        {
          "output_type": "execute_result",
          "data": {
            "text/plain": [
              "<matplotlib.axes._subplots.AxesSubplot at 0x7f019e4e5fd0>"
            ]
          },
          "metadata": {
            "tags": []
          },
          "execution_count": 12
        },
        {
          "output_type": "display_data",
          "data": {
            "image/png": "[encoded data removed]",
            "text/plain": [
              "<Figure size 432x288 with 1 Axes>"
            ]
          },
          "metadata": {
            "tags": [],
            "needs_background": "light"
          }
        }
      ]
    },
    {
      "cell_type": "code",
      "metadata": {
        "colab": {
          "base_uri": "https://localhost:8080/",
          "height": 283
        },
        "id": "9srkfDUQjUCq",
        "outputId": "3780cf57-ad77-457a-ab61-498545bd769b"
      },
      "source": [
        " gss['age'].hist(density=False, weights=None, cumulative=True, bottom=None, histtype='bar')"
      ],
      "execution_count": null,
      "outputs": [
        {
          "output_type": "execute_result",
          "data": {
            "text/plain": [
              "<matplotlib.axes._subplots.AxesSubplot at 0x7f019e3546a0>"
            ]
          },
          "metadata": {
            "tags": []
          },
          "execution_count": 14
        },
        {
          "output_type": "display_data",
          "data": {
            "image/png": "[encoded data removed]",
            "text/plain": [
              "<Figure size 432x288 with 1 Axes>"
            ]
          },
          "metadata": {
            "tags": [],
            "needs_background": "light"
          }
        }
      ]
    },
    {
      "cell_type": "code",
      "metadata": {
        "colab": {
          "base_uri": "https://localhost:8080/"
        },
        "id": "CcnuzGulfiD3",
        "outputId": "0bc58475-8e6c-4e98-b313-cc0c990bca02"
      },
      "source": [
        "# Select columns\n",
        "columns = ['age', 'year', 'educ']\n",
        "subset = gss[columns]\n",
        "\n",
        "# Compute the correlation matrix\n",
        "print(subset.corr())"
      ],
      "execution_count": null,
      "outputs": [
        {
          "output_type": "stream",
          "text": [
            "           age      year      educ\n",
            "age   1.000000  0.065482 -0.153742\n",
            "year  0.065482  1.000000  0.214065\n",
            "educ -0.153742  0.214065  1.000000\n"
          ],
          "name": "stdout"
        }
      ]
    },
    {
      "cell_type": "code",
      "metadata": {
        "id": "qrsa378qg63A"
      },
      "source": [
        "Age=gss[['age']]\n",
        "Year=gss[['year']]"
      ],
      "execution_count": null,
      "outputs": []
    },
    {
      "cell_type": "code",
      "metadata": {
        "id": "-qT8h9ifX23K"
      },
      "source": [
        "In statistics, kernel density estimation (KDE) is a non-parametric way \n",
        "to estimate the probability density function (PDF) of a random variable. \n",
        "This function uses Gaussian kernels and includes automatic bandwidth determination.\n",
        "gaussian == normal distribution"
      ],
      "execution_count": null,
      "outputs": []
    },
    {
      "cell_type": "code",
      "metadata": {
        "colab": {
          "base_uri": "https://localhost:8080/",
          "height": 265
        },
        "id": "BDhdPEu4kWyI",
        "outputId": "b0b53f21-5e97-4f3a-921c-fd95c594385a"
      },
      "source": [
        "Age= gss['age']\n",
        "Age.plot.kde()\n",
        "plt.show()"
      ],
      "execution_count": null,
      "outputs": [
        {
          "output_type": "display_data",
          "data": {
            "image/png": "[encoded data removed]",
            "text/plain": [
              "<Figure size 432x288 with 1 Axes>"
            ]
          },
          "metadata": {
            "tags": [],
            "needs_background": "light"
          }
        }
      ]
    },
    {
      "cell_type": "code",
      "metadata": {
        "id": "ZY2Rrytakio_"
      },
      "source": [
        "The method used to calculate the estimator bandwidth. This can be ‘scott’,\n",
        " ‘silverman’, a scalar constant or a callable. If None (default), ‘scott’ is used"
      ],
      "execution_count": null,
      "outputs": []
    },
    {
      "cell_type": "code",
      "metadata": {
        "colab": {
          "base_uri": "https://localhost:8080/",
          "height": 265
        },
        "id": "Ty81JrS0M1B6",
        "outputId": "741c49c3-d982-4cac-8076-45a008c42d8a"
      },
      "source": [
        "Age= gss['age']\n",
        "Age.plot.kde(bw_method=1)\n",
        "plt.show()"
      ],
      "execution_count": null,
      "outputs": [
        {
          "output_type": "display_data",
          "data": {
            "image/png": "[encoded data removed]",
            "text/plain": [
              "<Figure size 432x288 with 1 Axes>"
            ]
          },
          "metadata": {
            "tags": [],
            "needs_background": "light"
          }
        }
      ]
    },
    {
      "cell_type": "code",
      "metadata": {
        "colab": {
          "base_uri": "https://localhost:8080/",
          "height": 365
        },
        "id": "pUKns--0cE_6",
        "outputId": "e2727e01-966b-40f3-a614-94acbbc6f331"
      },
      "source": [
        "plt.hist(Age)\n",
        "plt.xlabel('Age')\n",
        "plt.ylabel('Frequency')\n",
        "plt.title('Histogram of Age')\n",
        "plt.show()"
      ],
      "execution_count": null,
      "outputs": [
        {
          "output_type": "stream",
          "text": [
            "/usr/local/lib/python3.6/dist-packages/numpy/lib/histograms.py:839: RuntimeWarning: invalid value encountered in greater_equal\n",
            "  keep = (tmp_a >= first_edge)\n",
            "/usr/local/lib/python3.6/dist-packages/numpy/lib/histograms.py:840: RuntimeWarning: invalid value encountered in less_equal\n",
            "  keep &= (tmp_a <= last_edge)\n"
          ],
          "name": "stderr"
        },
        {
          "output_type": "display_data",
          "data": {
            "image/png": "[encoded data removed]",
            "text/plain": [
              "<Figure size 432x288 with 1 Axes>"
            ]
          },
          "metadata": {
            "tags": [],
            "needs_background": "light"
          }
        }
      ]
    },
    {
      "cell_type": "code",
      "metadata": {
        "id": "zLHQheGJoUMS"
      },
      "source": [
        "Year= gss['year']"
      ],
      "execution_count": null,
      "outputs": []
    },
    {
      "cell_type": "code",
      "metadata": {
        "colab": {
          "base_uri": "https://localhost:8080/",
          "height": 265
        },
        "id": "gmmsv8PypCDU",
        "outputId": "f1431114-88bc-46c7-f69d-86b3e2785d4c"
      },
      "source": [
        "# Make a scatter plot\n",
        "plt.plot(Year, Age, 'o', alpha=0.1)\n",
        "plt.show()"
      ],
      "execution_count": null,
      "outputs": [
        {
          "output_type": "display_data",
          "data": {
            "image/png": "[encoded data removed]",
            "text/plain": [
              "<Figure size 432x288 with 1 Axes>"
            ]
          },
          "metadata": {
            "tags": [],
            "needs_background": "light"
          }
        }
      ]
    },
    {
      "cell_type": "code",
      "metadata": {
        "colab": {
          "base_uri": "https://localhost:8080/",
          "height": 295
        },
        "id": "8T3G061jaKHc",
        "outputId": "ac56e8f9-3d90-4727-a2f8-6d27248be176"
      },
      "source": [
        "gss.plot(x='year', y='age', kind='scatter', title='age vs year')\n",
        "# Show the plot\n",
        "plt.show()"
      ],
      "execution_count": null,
      "outputs": [
        {
          "output_type": "display_data",
          "data": {
            "image/png": "[encoded data removed]",
            "text/plain": [
              "<Figure size 432x288 with 1 Axes>"
            ]
          },
          "metadata": {
            "tags": [],
            "needs_background": "light"
          }
        }
      ]
    },
    {
      "cell_type": "code",
      "metadata": {
        "id": "Srr8DztXbaAX"
      },
      "source": [
        "Chapter 6\n",
        "topic 6.3\n",
        "Explore multivariate relationships using multiple regression to \n",
        "describe non-linear relationships and logistic regression to explain \n",
        "and predict binary variables."
      ],
      "execution_count": null,
      "outputs": []
    },
    {
      "cell_type": "code",
      "metadata": {
        "colab": {
          "base_uri": "https://localhost:8080/"
        },
        "id": "rXU7TdCY-Z8z",
        "outputId": "6a4e0f91-72ae-4960-b2b3-24be0c1d61fe"
      },
      "source": [
        "import pandas as pd\n",
        "import matplotlib.pyplot as plt\n",
        "import numpy as np\n",
        "\n",
        "brfss = pd.read_hdf('brfss.hdf5', 'brfss')\n",
        "\n",
        "# Select head\n",
        "brfss.head()\n",
        "brfss.columns"
      ],
      "execution_count": 2,
      "outputs": [
        {
          "output_type": "execute_result",
          "data": {
            "text/plain": [
              "Index(['SEX', 'HTM4', 'WTKG3', 'INCOME2', '_LLCPWT', '_AGEG5YR', '_VEGESU1',\n",
              "       '_HTMG10', 'AGE'],\n",
              "      dtype='object')"
            ]
          },
          "metadata": {
            "tags": []
          },
          "execution_count": 2
        }
      ]
    },
    {
      "cell_type": "code",
      "metadata": {
        "colab": {
          "base_uri": "https://localhost:8080/"
        },
        "id": "FRcIShf9-AC-",
        "outputId": "b211c3e4-3d30-43f7-db51-cc1a64c4e011"
      },
      "source": [
        "from scipy.stats import linregress\n",
        "import statsmodels.formula.api as smf\n",
        "\n",
        "# Run regression with linregress\n",
        "subset = brfss.dropna(subset=['INCOME2', '_VEGESU1'])\n",
        "xs = subset['INCOME2']\n",
        "ys = subset['_VEGESU1']\n",
        "res = linregress(xs, ys)\n",
        "print(res)\n",
        "\n",
        "# Run regression with StatsModels\n",
        "results = smf.ols('_VEGESU1 ~ INCOME2', data=brfss).fit()\n",
        "print(results.params)"
      ],
      "execution_count": 3,
      "outputs": [
        {
          "output_type": "stream",
          "text": [
            "/usr/local/lib/python3.6/dist-packages/statsmodels/tools/_testing.py:19: FutureWarning: pandas.util.testing is deprecated. Use the functions in the public API at pandas.testing instead.\n",
            "  import pandas.util.testing as tm\n"
          ],
          "name": "stderr"
        },
        {
          "output_type": "stream",
          "text": [
            "LinregressResult(slope=0.06988048092105019, intercept=1.5287786243363106, rvalue=0.11967005884864107, pvalue=1.378503916247615e-238, stderr=0.002110976356332332)\n",
            "Intercept    1.528779\n",
            "INCOME2      0.069880\n",
            "dtype: float64\n"
          ],
          "name": "stdout"
        }
      ]
    },
    {
      "cell_type": "code",
      "metadata": {
        "colab": {
          "base_uri": "https://localhost:8080/",
          "height": 279
        },
        "id": "NOq3vhKmAroW",
        "outputId": "bd0d5ad3-3516-447e-f964-933e000939ec"
      },
      "source": [
        "# Group by educ\n",
        "grouped = gss.groupby('educ')\n",
        "\n",
        "# Compute mean income in each group\n",
        "mean_income_by_educ = grouped['realinc'].mean()\n",
        "\n",
        "# Plot mean income as a scatter plot\n",
        "plt.plot(mean_income_by_educ, 'o', alpha=0.5)\n",
        "\n",
        "# Label the axes\n",
        "plt.xlabel('Education (years)')\n",
        "plt.ylabel('Income (1986 $)')\n",
        "plt.show()"
      ],
      "execution_count": 15,
      "outputs": [
        {
          "output_type": "display_data",
          "data": {
            "image/png": "[encoded data removed]",
            "text/plain": [
              "<Figure size 432x288 with 1 Axes>"
            ]
          },
          "metadata": {
            "tags": [],
            "needs_background": "light"
          }
        }
      ]
    },
    {
      "cell_type": "code",
      "metadata": {
        "colab": {
          "base_uri": "https://localhost:8080/"
        },
        "id": "6c2vaKXtG2rk",
        "outputId": "4c5c115c-0bbd-48a3-c682-c4f0b4b5322b"
      },
      "source": [
        "gss.columns"
      ],
      "execution_count": 9,
      "outputs": [
        {
          "output_type": "execute_result",
          "data": {
            "text/plain": [
              "Index(['year', 'age', 'cohort', 'sex', 'race', 'educ', 'realinc', 'gunlaw',\n",
              "       'grass', 'wtssall', 'educ2'],\n",
              "      dtype='object')"
            ]
          },
          "metadata": {
            "tags": []
          },
          "execution_count": 9
        }
      ]
    },
    {
      "cell_type": "code",
      "metadata": {
        "colab": {
          "base_uri": "https://localhost:8080/"
        },
        "id": "ma6a_o3tAztf",
        "outputId": "dbb420dd-ff8b-4fff-fdf1-a21bddde1f9a"
      },
      "source": [
        "import statsmodels.formula.api as smf\n",
        "\n",
        "# Add a new column with educ squared\n",
        "gss['educ2'] = gss['educ']**2\n",
        "gss['age2'] = gss['age']**2\n",
        "# Run a regression model with educ, educ2, age, and age2\n",
        "results = smf.ols('realinc ~ educ + educ2 + age + age2', data=gss).fit()\n",
        "\n",
        "# Print the estimated parameters\n",
        "print(results.params)"
      ],
      "execution_count": 16,
      "outputs": [
        {
          "output_type": "stream",
          "text": [
            "Intercept   -23241.884034\n",
            "educ          -528.309369\n",
            "educ2          159.966740\n",
            "age           1696.717149\n",
            "age2           -17.196984\n",
            "dtype: float64\n"
          ],
          "name": "stdout"
        }
      ]
    },
    {
      "cell_type": "code",
      "metadata": {
        "colab": {
          "base_uri": "https://localhost:8080/"
        },
        "id": "ZFxfkBJNCfVm",
        "outputId": "a7fb45fd-5b12-4372-ef3b-3b837e9546b5"
      },
      "source": [
        "# Run a regression model with educ, educ2, age, and age2\n",
        "results = smf.ols('realinc ~ educ + educ2 + age + age2', data=gss).fit()\n",
        "\n",
        "# Make the DataFrame\n",
        "df = pd.DataFrame()\n",
        "df['educ'] = np.linspace(0, 20)\n",
        "df['age'] = 30\n",
        "df['educ2'] = df['educ']**2\n",
        "df['age2'] = df['age']**2\n",
        "\n",
        "# Generate and plot the predictions\n",
        "pred = results.predict(df)\n",
        "print(pred.head())"
      ],
      "execution_count": 17,
      "outputs": [
        {
          "output_type": "stream",
          "text": [
            "0    12182.344976\n",
            "1    11993.358518\n",
            "2    11857.672098\n",
            "3    11775.285717\n",
            "4    11746.199374\n",
            "dtype: float64\n"
          ],
          "name": "stdout"
        }
      ]
    },
    {
      "cell_type": "code",
      "metadata": {
        "colab": {
          "base_uri": "https://localhost:8080/",
          "height": 279
        },
        "id": "UhQt-_5sDOQk",
        "outputId": "fee39990-c8c0-4f62-d234-c330b874fae4"
      },
      "source": [
        "# Plot mean income in each age group\n",
        "plt.clf()\n",
        "grouped = gss.groupby('educ')\n",
        "mean_income_by_educ = grouped['realinc'].mean()\n",
        "plt.plot(mean_income_by_educ, 'o', alpha=0.5, label='realinc')\n",
        "\n",
        "# Plot the predictions\n",
        "pred = results.predict(df)\n",
        "plt.plot(df['educ'], pred, label='Age 30')\n",
        "\n",
        "# Label axes\n",
        "plt.xlabel('Education (years)')\n",
        "plt.ylabel('Income (1986 $)')\n",
        "plt.legend()\n",
        "plt.show()"
      ],
      "execution_count": 18,
      "outputs": [
        {
          "output_type": "display_data",
          "data": {
            "image/png": "[encoded data removed]",
            "text/plain": [
              "<Figure size 432x288 with 1 Axes>"
            ]
          },
          "metadata": {
            "tags": [],
            "needs_background": "light"
          }
        }
      ]
    },
    {
      "cell_type": "code",
      "metadata": {
        "colab": {
          "base_uri": "https://localhost:8080/"
        },
        "id": "Nwv5cKmiDQBP",
        "outputId": "214db2ef-8439-4513-c04f-fcb5c795ce2a"
      },
      "source": [
        "# Recode grass\n",
        "gss['grass'].replace(2, 0, inplace=True)\n",
        "\n",
        "# Run logistic regression\n",
        "results = smf.logit('grass ~ age + age2 + educ + educ2 + C(sex)', data=gss).fit()\n",
        "results.params"
      ],
      "execution_count": 19,
      "outputs": [
        {
          "output_type": "stream",
          "text": [
            "Optimization terminated successfully.\n",
            "         Current function value: 0.588510\n",
            "         Iterations 6\n"
          ],
          "name": "stdout"
        },
        {
          "output_type": "execute_result",
          "data": {
            "text/plain": [
              "Intercept     -1.685223\n",
              "C(sex)[T.2]   -0.384611\n",
              "age           -0.034756\n",
              "age2           0.000192\n",
              "educ           0.221860\n",
              "educ2         -0.004163\n",
              "dtype: float64"
            ]
          },
          "metadata": {
            "tags": []
          },
          "execution_count": 19
        }
      ]
    },
    {
      "cell_type": "code",
      "metadata": {
        "id": "llx-GpZNHPX5"
      },
      "source": [
        "https://www.statsmodels.org/dev/example_formulas.html"
      ],
      "execution_count": null,
      "outputs": []
    }
  ]
}